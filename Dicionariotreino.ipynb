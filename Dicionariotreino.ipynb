{
 "cells": [
  {
   "cell_type": "markdown",
   "id": "ea1c9eaa",
   "metadata": {},
   "source": [
    "#### Definição de dicionário: É um objeto que representa a coleção de um ou mais objetos. Cada objeto tem sua chave e seu valor. Chaves {}"
   ]
  },
  {
   "cell_type": "code",
   "execution_count": 53,
   "id": "d6d53880-c786-4be2-9d53-6636b8efd61c",
   "metadata": {},
   "outputs": [],
   "source": [
    "# criando dicionario\n",
    "dict1 = {'chave1':'valor1', \n",
    "         'chave2':'valor2'}"
   ]
  },
  {
   "cell_type": "code",
   "execution_count": 54,
   "id": "6bb3bad4",
   "metadata": {},
   "outputs": [
    {
     "data": {
      "text/plain": [
       "{'chave1': 'valor1', 'chave2': 'valor2'}"
      ]
     },
     "execution_count": 54,
     "metadata": {},
     "output_type": "execute_result"
    }
   ],
   "source": [
    "dict1"
   ]
  },
  {
   "cell_type": "code",
   "execution_count": 55,
   "id": "16d4063f",
   "metadata": {},
   "outputs": [
    {
     "data": {
      "text/plain": [
       "dict"
      ]
     },
     "execution_count": 55,
     "metadata": {},
     "output_type": "execute_result"
    }
   ],
   "source": [
    "type(dict1)"
   ]
  },
  {
   "cell_type": "code",
   "execution_count": 56,
   "id": "e9695f71",
   "metadata": {},
   "outputs": [],
   "source": [
    "dict2 = dict(a = '1', \n",
    "             b = '2', \n",
    "             c = '3', \n",
    "             d = 'a')"
   ]
  },
  {
   "cell_type": "code",
   "execution_count": 57,
   "id": "da32e3eb",
   "metadata": {},
   "outputs": [
    {
     "data": {
      "text/plain": [
       "{'a': '1', 'b': '2', 'c': '3', 'd': 'a'}"
      ]
     },
     "execution_count": 57,
     "metadata": {},
     "output_type": "execute_result"
    }
   ],
   "source": [
    "dict2"
   ]
  },
  {
   "cell_type": "code",
   "execution_count": 58,
   "id": "cbd60aaf",
   "metadata": {},
   "outputs": [],
   "source": [
    "dict3 = dict([('a',1),\n",
    "              ('b',2),\n",
    "           ('c',3) ])"
   ]
  },
  {
   "cell_type": "code",
   "execution_count": 59,
   "id": "634478e2",
   "metadata": {},
   "outputs": [
    {
     "data": {
      "text/plain": [
       "{'a': 1, 'b': 2, 'c': 3}"
      ]
     },
     "execution_count": 59,
     "metadata": {},
     "output_type": "execute_result"
    }
   ],
   "source": [
    "dict3"
   ]
  },
  {
   "cell_type": "code",
   "execution_count": 60,
   "id": "efe06a07",
   "metadata": {},
   "outputs": [],
   "source": [
    "dict4 = {'chave1':['valor1',2,3], \n",
    "         'chave2':[2,'idade','nome']}"
   ]
  },
  {
   "cell_type": "code",
   "execution_count": 61,
   "id": "d8636400",
   "metadata": {},
   "outputs": [
    {
     "data": {
      "text/plain": [
       "{'chave1': ['valor1', 2, 3], 'chave2': [2, 'idade', 'nome']}"
      ]
     },
     "execution_count": 61,
     "metadata": {},
     "output_type": "execute_result"
    }
   ],
   "source": [
    "dict4"
   ]
  },
  {
   "cell_type": "code",
   "execution_count": 62,
   "id": "f8e3d04b",
   "metadata": {},
   "outputs": [
    {
     "data": {
      "text/plain": [
       "[2, 'idade', 'nome']"
      ]
     },
     "execution_count": 62,
     "metadata": {},
     "output_type": "execute_result"
    }
   ],
   "source": [
    "dict4['chave2']"
   ]
  },
  {
   "cell_type": "code",
   "execution_count": 63,
   "id": "81ff99fb",
   "metadata": {},
   "outputs": [],
   "source": [
    "dict5 = {'id':[1,2,3],\n",
    "         'user':{'nome':['Leandro','Theo','Dulci'],\n",
    "                 'idade':[37,2,41]}}"
   ]
  },
  {
   "cell_type": "code",
   "execution_count": 64,
   "id": "d9d8f64d",
   "metadata": {},
   "outputs": [
    {
     "data": {
      "text/plain": [
       "{'id': [1, 2, 3],\n",
       " 'user': {'nome': ['Leandro', 'Theo', 'Dulci'], 'idade': [37, 2, 41]}}"
      ]
     },
     "execution_count": 64,
     "metadata": {},
     "output_type": "execute_result"
    }
   ],
   "source": [
    "dict5"
   ]
  },
  {
   "cell_type": "code",
   "execution_count": 65,
   "id": "d3c2705a",
   "metadata": {},
   "outputs": [],
   "source": [
    "dict6 = dict(zip(['chave1','chave2','chave3'],\n",
    "                 ['valor1','valor2','valor3']))"
   ]
  },
  {
   "cell_type": "code",
   "execution_count": 66,
   "id": "7d901b33",
   "metadata": {},
   "outputs": [
    {
     "data": {
      "text/plain": [
       "{'chave1': 'valor1', 'chave2': 'valor2', 'chave3': 'valor3'}"
      ]
     },
     "execution_count": 66,
     "metadata": {},
     "output_type": "execute_result"
    }
   ],
   "source": [
    "dict6"
   ]
  },
  {
   "cell_type": "code",
   "execution_count": 67,
   "id": "77022998",
   "metadata": {},
   "outputs": [],
   "source": [
    "dict7 = {'nome':('Leandro','Dulci'),\n",
    "         'idade':(37,41)}"
   ]
  },
  {
   "cell_type": "code",
   "execution_count": 68,
   "id": "554f819a",
   "metadata": {},
   "outputs": [
    {
     "data": {
      "text/plain": [
       "{'nome': ('Leandro', 'Dulci'), 'idade': (37, 41)}"
      ]
     },
     "execution_count": 68,
     "metadata": {},
     "output_type": "execute_result"
    }
   ],
   "source": [
    "dict7"
   ]
  },
  {
   "cell_type": "markdown",
   "id": "8f3e10be",
   "metadata": {},
   "source": [
    "### Acessando valores do dicionario"
   ]
  },
  {
   "cell_type": "code",
   "execution_count": 69,
   "id": "ff7fad38",
   "metadata": {},
   "outputs": [
    {
     "data": {
      "text/plain": [
       "{'chave1': 'valor1', 'chave2': 'valor2'}"
      ]
     },
     "execution_count": 69,
     "metadata": {},
     "output_type": "execute_result"
    }
   ],
   "source": [
    "dict1"
   ]
  },
  {
   "cell_type": "code",
   "execution_count": 70,
   "id": "4e026429",
   "metadata": {},
   "outputs": [
    {
     "data": {
      "text/plain": [
       "'valor1'"
      ]
     },
     "execution_count": 70,
     "metadata": {},
     "output_type": "execute_result"
    }
   ],
   "source": [
    "dict1['chave1']"
   ]
  },
  {
   "cell_type": "code",
   "execution_count": 71,
   "id": "5f116225",
   "metadata": {},
   "outputs": [
    {
     "data": {
      "text/plain": [
       "'valor2'"
      ]
     },
     "execution_count": 71,
     "metadata": {},
     "output_type": "execute_result"
    }
   ],
   "source": [
    "dict1.get('chave2')"
   ]
  },
  {
   "cell_type": "code",
   "execution_count": 72,
   "id": "874c20b5",
   "metadata": {},
   "outputs": [
    {
     "data": {
      "text/plain": [
       "'Não existe essa chave !!'"
      ]
     },
     "execution_count": 72,
     "metadata": {},
     "output_type": "execute_result"
    }
   ],
   "source": [
    "dict1.get('Chave1', 'Não existe essa chave !!')"
   ]
  },
  {
   "cell_type": "code",
   "execution_count": 73,
   "id": "71c327b8",
   "metadata": {},
   "outputs": [
    {
     "data": {
      "text/plain": [
       "'chave1'"
      ]
     },
     "execution_count": 73,
     "metadata": {},
     "output_type": "execute_result"
    }
   ],
   "source": [
    "list(dict1)[0]"
   ]
  },
  {
   "cell_type": "code",
   "execution_count": 74,
   "id": "4ffc8de7",
   "metadata": {},
   "outputs": [
    {
     "data": {
      "text/plain": [
       "'valor2'"
      ]
     },
     "execution_count": 74,
     "metadata": {},
     "output_type": "execute_result"
    }
   ],
   "source": [
    "dict1.get(list(dict1)[1])"
   ]
  },
  {
   "cell_type": "code",
   "execution_count": 75,
   "id": "8a7234e5",
   "metadata": {},
   "outputs": [
    {
     "data": {
      "text/plain": [
       "{'chave1': 'valor1', 'chave2': 'valor2'}"
      ]
     },
     "execution_count": 75,
     "metadata": {},
     "output_type": "execute_result"
    }
   ],
   "source": [
    "dict1"
   ]
  },
  {
   "cell_type": "code",
   "execution_count": 76,
   "id": "606b7c05",
   "metadata": {},
   "outputs": [
    {
     "name": "stdout",
     "output_type": "stream",
     "text": [
      "chave1 valor1\n",
      "chave2 valor2\n"
     ]
    }
   ],
   "source": [
    "for chave in dict1.keys():\n",
    "    print(chave, dict1[chave])"
   ]
  },
  {
   "cell_type": "code",
   "execution_count": 77,
   "id": "96640c90",
   "metadata": {},
   "outputs": [
    {
     "name": "stdout",
     "output_type": "stream",
     "text": [
      "chave1 valor1\n",
      "chave2 valor2\n"
     ]
    }
   ],
   "source": [
    "for chave,valor in dict1.items():\n",
    "    print(chave,valor)"
   ]
  },
  {
   "cell_type": "code",
   "execution_count": 78,
   "id": "98f7e6dc",
   "metadata": {},
   "outputs": [
    {
     "name": "stdout",
     "output_type": "stream",
     "text": [
      "Para cada chave1, com  valor1\n",
      "Para cada chave2, com  valor2\n"
     ]
    }
   ],
   "source": [
    "for k, i in dict1.items():\n",
    "    print(f'Para cada {k}, com  {i}')"
   ]
  },
  {
   "cell_type": "markdown",
   "id": "f5f45d0b",
   "metadata": {},
   "source": [
    "#### Juntando dicionarios"
   ]
  },
  {
   "cell_type": "code",
   "execution_count": 79,
   "id": "c7796b33",
   "metadata": {},
   "outputs": [
    {
     "data": {
      "text/plain": [
       "{'chave1': 'valor1', 'chave2': 'valor2'}"
      ]
     },
     "execution_count": 79,
     "metadata": {},
     "output_type": "execute_result"
    }
   ],
   "source": [
    "dict1"
   ]
  },
  {
   "cell_type": "code",
   "execution_count": 80,
   "metadata": {},
   "outputs": [
    {
     "data": {
      "text/plain": [
       "{'a': '1', 'b': '2', 'c': '3', 'd': 'a'}"
      ]
     },
     "execution_count": 80,
     "metadata": {},
     "output_type": "execute_result"
    }
   ],
   "source": [
    "dict2"
   ]
  },
  {
   "cell_type": "code",
   "execution_count": 81,
   "id": "616280f1",
   "metadata": {},
   "outputs": [],
   "source": [
    "dict1.update(dict2)"
   ]
  },
  {
   "cell_type": "code",
   "execution_count": 82,
   "id": "3f4ae59a",
   "metadata": {},
   "outputs": [
    {
     "data": {
      "text/plain": [
       "{'chave1': 'valor1',\n",
       " 'chave2': 'valor2',\n",
       " 'a': '1',\n",
       " 'b': '2',\n",
       " 'c': '3',\n",
       " 'd': 'a'}"
      ]
     },
     "execution_count": 82,
     "metadata": {},
     "output_type": "execute_result"
    }
   ],
   "source": [
    "dict1"
   ]
  },
  {
   "cell_type": "code",
   "execution_count": 83,
   "id": "eb32fa62",
   "metadata": {},
   "outputs": [],
   "source": [
    "dict1[\"NOVA CHAVE\"] = 1000"
   ]
  },
  {
   "cell_type": "code",
   "execution_count": 84,
   "id": "b4070dec",
   "metadata": {},
   "outputs": [
    {
     "data": {
      "text/plain": [
       "{'chave1': 'valor1',\n",
       " 'chave2': 'valor2',\n",
       " 'a': '1',\n",
       " 'b': '2',\n",
       " 'c': '3',\n",
       " 'd': 'a',\n",
       " 'NOVA CHAVE': 1000}"
      ]
     },
     "execution_count": 84,
     "metadata": {},
     "output_type": "execute_result"
    }
   ],
   "source": [
    "dict1"
   ]
  },
  {
   "cell_type": "code",
   "execution_count": 85,
   "id": "3bb714d1",
   "metadata": {},
   "outputs": [],
   "source": [
    "dict1.update({'OUTRA CHAVE': 'outro valor'})"
   ]
  },
  {
   "cell_type": "code",
   "execution_count": 86,
   "id": "e027ea2e",
   "metadata": {},
   "outputs": [
    {
     "data": {
      "text/plain": [
       "{'chave1': 'valor1',\n",
       " 'chave2': 'valor2',\n",
       " 'a': '1',\n",
       " 'b': '2',\n",
       " 'c': '3',\n",
       " 'd': 'a',\n",
       " 'NOVA CHAVE': 1000,\n",
       " 'OUTRA CHAVE': 'outro valor'}"
      ]
     },
     "execution_count": 86,
     "metadata": {},
     "output_type": "execute_result"
    }
   ],
   "source": [
    "dict1"
   ]
  },
  {
   "cell_type": "code",
   "execution_count": 87,
   "id": "e49634f3",
   "metadata": {},
   "outputs": [
    {
     "data": {
      "text/plain": [
       "{'a': '1', 'b': '2', 'c': '3', 'd': 'a'}"
      ]
     },
     "execution_count": 87,
     "metadata": {},
     "output_type": "execute_result"
    }
   ],
   "source": [
    "dict2"
   ]
  },
  {
   "cell_type": "code",
   "execution_count": 88,
   "id": "bbe4ecb0",
   "metadata": {},
   "outputs": [
    {
     "data": {
      "text/plain": [
       "{'a': 1, 'b': 2, 'c': 3}"
      ]
     },
     "execution_count": 88,
     "metadata": {},
     "output_type": "execute_result"
    }
   ],
   "source": [
    "dict3"
   ]
  },
  {
   "cell_type": "code",
   "execution_count": 89,
   "id": "293841ca",
   "metadata": {},
   "outputs": [],
   "source": [
    "dict3.update({'c':5})"
   ]
  },
  {
   "cell_type": "code",
   "execution_count": 90,
   "id": "dcf705de",
   "metadata": {},
   "outputs": [
    {
     "data": {
      "text/plain": [
       "{'a': 1, 'b': 2, 'c': 5, 'd': 'a'}"
      ]
     },
     "execution_count": 90,
     "metadata": {},
     "output_type": "execute_result"
    }
   ],
   "source": [
    "{**dict2,**dict3}"
   ]
  },
  {
   "cell_type": "markdown",
   "id": "da3fdfbc",
   "metadata": {},
   "source": [
    "### Verificando se um valor pertence a chave"
   ]
  },
  {
   "cell_type": "code",
   "execution_count": 91,
   "id": "6ee9f8d9",
   "metadata": {},
   "outputs": [
    {
     "data": {
      "text/plain": [
       "{'a': 1, 'b': 2, 'c': 5}"
      ]
     },
     "execution_count": 91,
     "metadata": {},
     "output_type": "execute_result"
    }
   ],
   "source": [
    "dict3"
   ]
  },
  {
   "cell_type": "code",
   "execution_count": 92,
   "id": "7c8328e8",
   "metadata": {},
   "outputs": [
    {
     "data": {
      "text/plain": [
       "True"
      ]
     },
     "execution_count": 92,
     "metadata": {},
     "output_type": "execute_result"
    }
   ],
   "source": [
    "1 == dict3['a']"
   ]
  },
  {
   "cell_type": "code",
   "execution_count": 93,
   "id": "d78e211a",
   "metadata": {},
   "outputs": [
    {
     "data": {
      "text/plain": [
       "False"
      ]
     },
     "execution_count": 93,
     "metadata": {},
     "output_type": "execute_result"
    }
   ],
   "source": [
    "0 == dict3['a']"
   ]
  },
  {
   "cell_type": "markdown",
   "id": "7ddf8057",
   "metadata": {},
   "source": [
    "### Metados"
   ]
  },
  {
   "cell_type": "code",
   "execution_count": 94,
   "id": "35711013",
   "metadata": {},
   "outputs": [
    {
     "data": {
      "text/plain": [
       "{'a': 1, 'b': 2, 'c': 5}"
      ]
     },
     "execution_count": 94,
     "metadata": {},
     "output_type": "execute_result"
    }
   ],
   "source": [
    "dict3"
   ]
  },
  {
   "cell_type": "code",
   "execution_count": 95,
   "id": "69c38744",
   "metadata": {},
   "outputs": [],
   "source": [
    "dict3.clear()"
   ]
  },
  {
   "cell_type": "code",
   "execution_count": 96,
   "id": "1a91bbd6",
   "metadata": {},
   "outputs": [
    {
     "data": {
      "text/plain": [
       "{}"
      ]
     },
     "execution_count": 96,
     "metadata": {},
     "output_type": "execute_result"
    }
   ],
   "source": [
    "dict3"
   ]
  },
  {
   "cell_type": "code",
   "execution_count": 97,
   "id": "e2d18863",
   "metadata": {},
   "outputs": [],
   "source": [
    "dict100 = dict3.copy()"
   ]
  },
  {
   "cell_type": "code",
   "execution_count": 98,
   "id": "97044443",
   "metadata": {},
   "outputs": [
    {
     "data": {
      "text/plain": [
       "{}"
      ]
     },
     "execution_count": 98,
     "metadata": {},
     "output_type": "execute_result"
    }
   ],
   "source": [
    "dict100"
   ]
  },
  {
   "cell_type": "code",
   "execution_count": 99,
   "id": "6b01b74c",
   "metadata": {},
   "outputs": [
    {
     "data": {
      "text/plain": [
       "{'chave1': ['valor1', 2, 3], 'chave2': [2, 'idade', 'nome']}"
      ]
     },
     "execution_count": 99,
     "metadata": {},
     "output_type": "execute_result"
    }
   ],
   "source": [
    "dict4"
   ]
  },
  {
   "cell_type": "code",
   "execution_count": 100,
   "id": "a315a5d0",
   "metadata": {},
   "outputs": [
    {
     "data": {
      "text/plain": [
       "['valor1', 2, 3]"
      ]
     },
     "execution_count": 100,
     "metadata": {},
     "output_type": "execute_result"
    }
   ],
   "source": [
    "dict4.pop('chave1')"
   ]
  },
  {
   "cell_type": "code",
   "execution_count": 101,
   "id": "09e3fc1e",
   "metadata": {},
   "outputs": [
    {
     "data": {
      "text/plain": [
       "{'chave2': [2, 'idade', 'nome']}"
      ]
     },
     "execution_count": 101,
     "metadata": {},
     "output_type": "execute_result"
    }
   ],
   "source": [
    "dict4"
   ]
  },
  {
   "cell_type": "code",
   "execution_count": 102,
   "id": "4452ed7d",
   "metadata": {},
   "outputs": [
    {
     "data": {
      "text/plain": [
       "{'chave1': 'valor1', 'chave2': 'valor2', 'chave3': 'valor3'}"
      ]
     },
     "execution_count": 102,
     "metadata": {},
     "output_type": "execute_result"
    }
   ],
   "source": [
    "dict6"
   ]
  },
  {
   "cell_type": "code",
   "execution_count": 103,
   "id": "36eba58b",
   "metadata": {},
   "outputs": [
    {
     "data": {
      "text/plain": [
       "('chave3', 'valor3')"
      ]
     },
     "execution_count": 103,
     "metadata": {},
     "output_type": "execute_result"
    }
   ],
   "source": [
    "dict6.popitem()"
   ]
  },
  {
   "cell_type": "code",
   "execution_count": 104,
   "id": "4954bbe1",
   "metadata": {},
   "outputs": [
    {
     "data": {
      "text/plain": [
       "{'chave1': 'valor1', 'chave2': 'valor2'}"
      ]
     },
     "execution_count": 104,
     "metadata": {},
     "output_type": "execute_result"
    }
   ],
   "source": [
    "dict6"
   ]
  },
  {
   "cell_type": "code",
   "execution_count": null,
   "id": "c0a0cfc4",
   "metadata": {},
   "outputs": [],
   "source": []
  }
 ],
 "metadata": {
  "kernelspec": {
   "display_name": "Python 3 (ipykernel)",
   "language": "python",
   "name": "python3"
  },
  "language_info": {
   "codemirror_mode": {
    "name": "ipython",
    "version": 3
   },
   "file_extension": ".py",
   "mimetype": "text/x-python",
   "name": "python",
   "nbconvert_exporter": "python",
   "pygments_lexer": "ipython3",
   "version": "3.11.5"
  }
 },
 "nbformat": 4,
 "nbformat_minor": 5
}
